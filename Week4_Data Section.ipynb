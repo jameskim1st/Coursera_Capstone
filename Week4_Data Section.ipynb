{
 "cells": [
  {
   "cell_type": "markdown",
   "metadata": {},
   "source": [
    "## Data Section"
   ]
  },
  {
   "cell_type": "markdown",
   "metadata": {},
   "source": [
    "We use Scarborough dataset that we scrapped from wikipedia.\n",
    "- https://en.wikipedia.org/wiki/List_of_postal_codes_of_Canada:_M"
   ]
  },
  {
   "cell_type": "markdown",
   "metadata": {},
   "source": [
    "We need data on different locations in different areas of the borough. We will thus use \"Foursquare\" location information to obtain this information. Foursquare is a location data provider with information about all locations and events within your region of interest. This information includes the location name, location, menu, and pictures. Therefore, the foursquare location platform is the only data source because all the specified information can be obtained through the API.\n",
    "\n",
    "Find a list of neighbors and then connect to the Foursquare API to gather information about the locations within each neighborhood will be our process. For each neighbor, we will choose a radius of 100 meters."
   ]
  }
 ],
 "metadata": {
  "kernelspec": {
   "display_name": "Python 3",
   "language": "python",
   "name": "python3"
  },
  "language_info": {
   "codemirror_mode": {
    "name": "ipython",
    "version": 3
   },
   "file_extension": ".py",
   "mimetype": "text/x-python",
   "name": "python",
   "nbconvert_exporter": "python",
   "pygments_lexer": "ipython3",
   "version": "3.7.6"
  }
 },
 "nbformat": 4,
 "nbformat_minor": 4
}
