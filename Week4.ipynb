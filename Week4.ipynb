{
 "cells": [
  {
   "cell_type": "markdown",
   "metadata": {},
   "source": [
    "# The Battle of Neighborhoods"
   ]
  },
  {
   "cell_type": "markdown",
   "metadata": {},
   "source": [
    "## 1. A description of the problem and a discussion of the background"
   ]
  },
  {
   "cell_type": "markdown",
   "metadata": {},
   "source": [
    "The purpose of this project is to help people explore better facilities around their neighbors. It will help you make a wise and efficient decision to choose a good neighbor among many other areas in Toran Saturday's Scarborough.\n",
    "\n",
    "Many people are moving to different states in Canada, and many studies were needed on good housing prices and famous schools for their children. This project is for people looking for a better neighbor. You can easily access cafes, schools, supermarkets, medical stores, grocery stores, shopping malls, theaters, hospitals, and people you like.\n",
    "\n",
    "The goal of this project is to create character analysis for those who migrated to Scarborough to find their best neighbors through cross-regional comparative analysis. Features include better schools based on intermediate housing prices and ratings, crime rates in certain areas, road connections, weather conditions, good management of emergencies, water resources in fresh and wastewater and excrement from sewer and recreational facilities.\n",
    "\n",
    "Before moving to a new city, state, country, or place, it will help people recognize the region and its neighbors and start a new life."
   ]
  },
  {
   "cell_type": "markdown",
   "metadata": {},
   "source": [
    "## 2. A description of the data and how it will be used to solve the problem."
   ]
  },
  {
   "cell_type": "markdown",
   "metadata": {},
   "source": [
    "Scarborough is a great place for new immigrants in Canada. As a result, Toronto is one of the most diverse and multicultural areas in the metropolitan Toronto area, with various religious groups and chapels. Immigration has been a hot topic over the past few years as more governments seek more restrictions on immigrants and refugees, but the general trend of immigration to Canada is increasing.\n",
    "\n",
    "The project uses the Four-square API as a major data collection source with a location API that can perform location searches, location sharing, and business details in millions of databases.\n",
    "\n",
    "It is mined if you use credentials for the Foursquare API feature in a nearby area. Due to the http request limit, the number of places per neighborhood parameter is reasonably set to 100 and the radius parameter is set to 500.\n",
    "\n",
    "To compare the similarities between the two cities, we decided to explore, classify, and cluster neighborhoods to find similar areas in big cities such as New York and Toronto. This requires clustering of data that is a form of uncoordinated machine learning."
   ]
  },
  {
   "cell_type": "markdown",
   "metadata": {},
   "source": [
    "To develop the project, we use the following libraries \n",
    "- Numpy, Pandas, Matplotlib, Sckit learn, Folium, JSON, XML, Beautifulsoup"
   ]
  },
  {
   "cell_type": "code",
   "execution_count": null,
   "metadata": {},
   "outputs": [],
   "source": []
  }
 ],
 "metadata": {
  "kernelspec": {
   "display_name": "Python 3",
   "language": "python",
   "name": "python3"
  },
  "language_info": {
   "codemirror_mode": {
    "name": "ipython",
    "version": 3
   },
   "file_extension": ".py",
   "mimetype": "text/x-python",
   "name": "python",
   "nbconvert_exporter": "python",
   "pygments_lexer": "ipython3",
   "version": "3.7.6"
  }
 },
 "nbformat": 4,
 "nbformat_minor": 4
}
